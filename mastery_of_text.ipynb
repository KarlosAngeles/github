{
 "cells": [
  {
   "cell_type": "code",
   "execution_count": 15,
   "id": "b43ce187-525d-4d0f-bd57-340176a9787d",
   "metadata": {},
   "outputs": [
    {
     "name": "stdout",
     "output_type": "stream",
     "text": [
      "The string has 99968 lines.\n",
      "The string has 824538 words.\n",
      "The word 'apostle' appears 39 times in the string.\n",
      "The most common word in the string is 'the'.\n"
     ]
    }
   ],
   "source": [
    "import urllib.request\n",
    "\n",
    "# Fetch the text from the provided URL and store it in the variable 'pg10'\n",
    "with urllib.request.urlopen('https://www.gutenberg.org/cache/epub/10/pg10.txt') as response:\n",
    "    pg10 = response.read().decode('utf-8')\n",
    "\n",
    "# Find the number of lines in the string\n",
    "num_lines = pg10.count('\\n')\n",
    "print(f'The string has {num_lines} lines.')\n",
    "\n",
    "# Find the number of words in the string\n",
    "words = pg10.split()\n",
    "num_words = len(words)\n",
    "print(f'The string has {num_words} words.')\n",
    "\n",
    "# Find the number of times the word 'apostle' appears in the string, ignoring capitalization\n",
    "apostle_count = pg10.lower().count(\" apostle \") \n",
    "print(f\"The word 'apostle' appears {apostle_count} times in the string.\")\n",
    "\n",
    "# Find the most common word in the string, ignoring capitalization\n",
    "word_counts = {}\n",
    "for word in words:\n",
    "    word = word.lower()\n",
    "    if word.isalpha():\n",
    "        if word in word_counts:\n",
    "            word_counts[word] += 1\n",
    "        else:\n",
    "            word_counts[word] = 1\n",
    "\n",
    "most_common_word = max(word_counts, key=word_counts.get)\n",
    "print(f\"The most common word in the string is '{most_common_word}'.\")"
   ]
  }
 ],
 "metadata": {
  "kernelspec": {
   "display_name": "Python 3 (ipykernel)",
   "language": "python",
   "name": "python3"
  },
  "language_info": {
   "codemirror_mode": {
    "name": "ipython",
    "version": 3
   },
   "file_extension": ".py",
   "mimetype": "text/x-python",
   "name": "python",
   "nbconvert_exporter": "python",
   "pygments_lexer": "ipython3",
   "version": "3.11.7"
  }
 },
 "nbformat": 4,
 "nbformat_minor": 5
}
